{
 "cells": [
  {
   "cell_type": "code",
   "execution_count": 1,
   "metadata": {
    "collapsed": true
   },
   "outputs": [],
   "source": [
    "import numpy as np\n",
    "import matplotlib.pyplot as plt\n",
    "import pandas as pd\n",
    "import scipy"
   ]
  },
  {
   "cell_type": "markdown",
   "metadata": {},
   "source": [
    "# Question 2"
   ]
  },
  {
   "cell_type": "markdown",
   "metadata": {},
   "source": [
    "# a"
   ]
  },
  {
   "cell_type": "code",
   "execution_count": 2,
   "metadata": {},
   "outputs": [
    {
     "name": "stdout",
     "output_type": "stream",
     "text": [
      "<class 'pandas.core.frame.DataFrame'>\n",
      "RangeIndex: 120 entries, 0 to 119\n",
      "Data columns (total 8 columns):\n",
      "MonthNumeric    120 non-null int64\n",
      "MonthFactor     120 non-null object\n",
      "Year            120 non-null int64\n",
      "RAV4Sales       120 non-null int64\n",
      "Unemployment    120 non-null float64\n",
      "RAV4Queries     120 non-null int64\n",
      "CPIAll          120 non-null float64\n",
      "CPIEnergy       120 non-null float64\n",
      "dtypes: float64(3), int64(4), object(1)\n",
      "memory usage: 7.6+ KB\n"
     ]
    },
    {
     "data": {
      "text/html": [
       "<div>\n",
       "<style scoped>\n",
       "    .dataframe tbody tr th:only-of-type {\n",
       "        vertical-align: middle;\n",
       "    }\n",
       "\n",
       "    .dataframe tbody tr th {\n",
       "        vertical-align: top;\n",
       "    }\n",
       "\n",
       "    .dataframe thead th {\n",
       "        text-align: right;\n",
       "    }\n",
       "</style>\n",
       "<table border=\"1\" class=\"dataframe\">\n",
       "  <thead>\n",
       "    <tr style=\"text-align: right;\">\n",
       "      <th></th>\n",
       "      <th>MonthNumeric</th>\n",
       "      <th>MonthFactor</th>\n",
       "      <th>Year</th>\n",
       "      <th>RAV4Sales</th>\n",
       "      <th>Unemployment</th>\n",
       "      <th>RAV4Queries</th>\n",
       "      <th>CPIAll</th>\n",
       "      <th>CPIEnergy</th>\n",
       "    </tr>\n",
       "  </thead>\n",
       "  <tbody>\n",
       "    <tr>\n",
       "      <th>0</th>\n",
       "      <td>1</td>\n",
       "      <td>January</td>\n",
       "      <td>2011</td>\n",
       "      <td>11196</td>\n",
       "      <td>9.1</td>\n",
       "      <td>29</td>\n",
       "      <td>221.187</td>\n",
       "      <td>229.258</td>\n",
       "    </tr>\n",
       "    <tr>\n",
       "      <th>1</th>\n",
       "      <td>2</td>\n",
       "      <td>February</td>\n",
       "      <td>2011</td>\n",
       "      <td>12562</td>\n",
       "      <td>9.0</td>\n",
       "      <td>29</td>\n",
       "      <td>221.898</td>\n",
       "      <td>232.068</td>\n",
       "    </tr>\n",
       "    <tr>\n",
       "      <th>2</th>\n",
       "      <td>3</td>\n",
       "      <td>March</td>\n",
       "      <td>2011</td>\n",
       "      <td>16082</td>\n",
       "      <td>9.0</td>\n",
       "      <td>29</td>\n",
       "      <td>223.046</td>\n",
       "      <td>240.079</td>\n",
       "    </tr>\n",
       "    <tr>\n",
       "      <th>3</th>\n",
       "      <td>4</td>\n",
       "      <td>April</td>\n",
       "      <td>2011</td>\n",
       "      <td>15586</td>\n",
       "      <td>9.1</td>\n",
       "      <td>27</td>\n",
       "      <td>224.093</td>\n",
       "      <td>247.977</td>\n",
       "    </tr>\n",
       "    <tr>\n",
       "      <th>4</th>\n",
       "      <td>5</td>\n",
       "      <td>May</td>\n",
       "      <td>2011</td>\n",
       "      <td>8624</td>\n",
       "      <td>9.0</td>\n",
       "      <td>28</td>\n",
       "      <td>224.806</td>\n",
       "      <td>250.744</td>\n",
       "    </tr>\n",
       "  </tbody>\n",
       "</table>\n",
       "</div>"
      ],
      "text/plain": [
       "   MonthNumeric MonthFactor  Year  RAV4Sales  Unemployment  RAV4Queries  \\\n",
       "0             1     January  2011      11196           9.1           29   \n",
       "1             2    February  2011      12562           9.0           29   \n",
       "2             3       March  2011      16082           9.0           29   \n",
       "3             4       April  2011      15586           9.1           27   \n",
       "4             5         May  2011       8624           9.0           28   \n",
       "\n",
       "    CPIAll  CPIEnergy  \n",
       "0  221.187    229.258  \n",
       "1  221.898    232.068  \n",
       "2  223.046    240.079  \n",
       "3  224.093    247.977  \n",
       "4  224.806    250.744  "
      ]
     },
     "execution_count": 2,
     "metadata": {},
     "output_type": "execute_result"
    }
   ],
   "source": [
    "data = pd.read_csv(\"RAV4-142-Spring2021.csv\")\n",
    "data.info()\n",
    "data.head()"
   ]
  },
  {
   "cell_type": "code",
   "execution_count": 3,
   "metadata": {},
   "outputs": [
    {
     "data": {
      "text/plain": [
       "(72, 48)"
      ]
     },
     "execution_count": 3,
     "metadata": {},
     "output_type": "execute_result"
    }
   ],
   "source": [
    "# from sklearn.model_selection import train_test_split\n",
    "train = data[data['Year'] <= 2016]\n",
    "test = data[data['Year'] > 2016]\n",
    "len(train), len(test)"
   ]
  },
  {
   "cell_type": "code",
   "execution_count": 10,
   "metadata": {},
   "outputs": [
    {
     "name": "stdout",
     "output_type": "stream",
     "text": [
      "                            OLS Regression Results                            \n",
      "==============================================================================\n",
      "Dep. Variable:              RAV4Sales   R-squared:                       0.725\n",
      "Model:                            OLS   Adj. R-squared:                  0.721\n",
      "Method:                 Least Squares   F-statistic:                     184.1\n",
      "Date:                Thu, 11 Feb 2021   Prob (F-statistic):           2.79e-21\n",
      "Time:                        11:49:03   Log-Likelihood:                -696.68\n",
      "No. Observations:                  72   AIC:                             1397.\n",
      "Df Residuals:                      70   BIC:                             1402.\n",
      "Df Model:                           1                                         \n",
      "Covariance Type:            nonrobust                                         \n",
      "===============================================================================\n",
      "                  coef    std err          t      P>|t|      [0.025      0.975]\n",
      "-------------------------------------------------------------------------------\n",
      "Intercept   -6727.5531   2040.356     -3.297      0.002   -1.08e+04   -2658.191\n",
      "RAV4Queries   682.3590     50.285     13.570      0.000     582.069     782.649\n",
      "==============================================================================\n",
      "Omnibus:                        2.895   Durbin-Watson:                   1.402\n",
      "Prob(Omnibus):                  0.235   Jarque-Bera (JB):                2.446\n",
      "Skew:                          -0.153   Prob(JB):                        0.294\n",
      "Kurtosis:                       3.850   Cond. No.                         180.\n",
      "==============================================================================\n",
      "\n",
      "Notes:\n",
      "[1] Standard Errors assume that the covariance matrix of the errors is correctly specified.\n"
     ]
    }
   ],
   "source": [
    "import statsmodels.formula.api as smf\n",
    "ols = smf.ols(formula='RAV4Sales~ RAV4Queries ',data=train)\n",
    "model1 =ols.fit()\n",
    "print(model1.summary())"
   ]
  },
  {
   "cell_type": "markdown",
   "metadata": {
    "collapsed": true
   },
   "source": [
    "The equation is RAV4Sales=682.3590∗RAV4Queries. In order to see how different varibales affected the RAV4Sales, I formulated a linear regression model using the different variables like Unemployment, RAV4Queries, CPIEnergy, and CPIAll. After trying the different ones, RAV4Queries have the best influence on RAV4sales and its coefficient is positve which indicates that there will be an increase in sales, whereas Uemployment and CPIEnergy had negative coefficients. CPIAll also had a positive coefficient but its R squared value was less than RAV4Queries'. The model right here has a R squared value of 0.725."
   ]
  },
  {
   "cell_type": "markdown",
   "metadata": {
    "collapsed": true
   },
   "source": [
    "# b"
   ]
  },
  {
   "cell_type": "code",
   "execution_count": 11,
   "metadata": {},
   "outputs": [
    {
     "name": "stdout",
     "output_type": "stream",
     "text": [
      "                            OLS Regression Results                            \n",
      "==============================================================================\n",
      "Dep. Variable:              RAV4Sales   R-squared:                       0.884\n",
      "Model:                            OLS   Adj. R-squared:                  0.853\n",
      "Method:                 Least Squares   F-statistic:                     28.51\n",
      "Date:                Thu, 11 Feb 2021   Prob (F-statistic):           8.55e-21\n",
      "Time:                        12:03:21   Log-Likelihood:                -665.48\n",
      "No. Observations:                  72   AIC:                             1363.\n",
      "Df Residuals:                      56   BIC:                             1399.\n",
      "Df Model:                          15                                         \n",
      "Covariance Type:            nonrobust                                         \n",
      "============================================================================================\n",
      "                               coef    std err          t      P>|t|      [0.025      0.975]\n",
      "--------------------------------------------------------------------------------------------\n",
      "Intercept                 7.754e+04   8.82e+04      0.879      0.383   -9.92e+04    2.54e+05\n",
      "MonthFactor[T.August]     2422.0989   1679.828      1.442      0.155    -943.001    5787.199\n",
      "MonthFactor[T.December]   1885.2249   1704.333      1.106      0.273   -1528.965    5299.414\n",
      "MonthFactor[T.February]  -2922.8349   1644.025     -1.778      0.081   -6216.214     370.544\n",
      "MonthFactor[T.January]   -4543.8071   1648.557     -2.756      0.008   -7846.264   -1241.350\n",
      "MonthFactor[T.July]       -193.7079   1687.715     -0.115      0.909   -3574.607    3187.191\n",
      "MonthFactor[T.June]      -1426.1733   1666.576     -0.856      0.396   -4764.726    1912.380\n",
      "MonthFactor[T.March]       466.8540   1639.891      0.285      0.777   -2818.243    3751.951\n",
      "MonthFactor[T.May]        2010.0694   1640.329      1.225      0.226   -1275.904    5296.043\n",
      "MonthFactor[T.November]  -1540.1770   1687.060     -0.913      0.365   -4919.765    1839.411\n",
      "MonthFactor[T.October]   -1808.4239   1695.135     -1.067      0.291   -5204.188    1587.340\n",
      "MonthFactor[T.September] -1879.2594   1651.944     -1.138      0.260   -5188.501    1429.982\n",
      "Unemployment             -3687.3648   1437.100     -2.566      0.013   -6566.223    -808.507\n",
      "RAV4Queries                228.4423    116.205      1.966      0.054      -4.343     461.228\n",
      "CPIEnergy                    1.1895     40.426      0.029      0.977     -79.794      82.173\n",
      "CPIAll                    -175.4430    379.958     -0.462      0.646    -936.590     585.704\n",
      "==============================================================================\n",
      "Omnibus:                        7.146   Durbin-Watson:                   1.287\n",
      "Prob(Omnibus):                  0.028   Jarque-Bera (JB):               11.806\n",
      "Skew:                           0.206   Prob(JB):                      0.00273\n",
      "Kurtosis:                       4.941   Cond. No.                     8.70e+04\n",
      "==============================================================================\n",
      "\n",
      "Notes:\n",
      "[1] Standard Errors assume that the covariance matrix of the errors is correctly specified.\n",
      "[2] The condition number is large, 8.7e+04. This might indicate that there are\n",
      "strong multicollinearity or other numerical problems.\n"
     ]
    }
   ],
   "source": [
    "ols = smf.ols(formula='RAV4Sales~ Unemployment+RAV4Queries+CPIEnergy+CPIAll+MonthFactor',data=train)\n",
    "model1 =ols.fit()\n",
    "print(model1.summary())"
   ]
  },
  {
   "cell_type": "markdown",
   "metadata": {},
   "source": [
    "The equation is RAV4Sales=228.4423∗RAV4Queries -3687.3648∗Unemployment + 1.1895∗CPIEnergy -175.4430∗CPIAll. This model has the new independent variable MonthFactor so that the model can also take seasonality into account to predict the sales accurately. The coefficients of each monthly variable depicts either a positive or negative value and when some coefficient months like (June and May ) are positive which means that they tend to affect the sales positively. All other months have negative coefficients which affect the sales in the negatively. The new R squared value is .884 and the new significant variables are RAV4 , MonthFactorAugust, MonthFactorMay, and MonthFactorDecember. Adding an independent variable is insightful for the model as we discovered new significant variables and also the R squared value increased from the previous model. I think to improve the model, we can calculate with only significant independent monthly variables."
   ]
  },
  {
   "cell_type": "markdown",
   "metadata": {},
   "source": [
    "# c"
   ]
  },
  {
   "cell_type": "code",
   "execution_count": 12,
   "metadata": {},
   "outputs": [
    {
     "name": "stdout",
     "output_type": "stream",
     "text": [
      "                            OLS Regression Results                            \n",
      "==============================================================================\n",
      "Dep. Variable:              RAV4Sales   R-squared:                       0.823\n",
      "Model:                            OLS   Adj. R-squared:                  0.784\n",
      "Method:                 Least Squares   F-statistic:                     20.81\n",
      "Date:                Thu, 11 Feb 2021   Prob (F-statistic):           3.52e-17\n",
      "Time:                        12:20:55   Log-Likelihood:                -680.67\n",
      "No. Observations:                  72   AIC:                             1389.\n",
      "Df Residuals:                      58   BIC:                             1421.\n",
      "Df Model:                          13                                         \n",
      "Covariance Type:            nonrobust                                         \n",
      "============================================================================================\n",
      "                               coef    std err          t      P>|t|      [0.025      0.975]\n",
      "--------------------------------------------------------------------------------------------\n",
      "Intercept                 8624.1725   9353.043      0.922      0.360   -1.01e+04    2.73e+04\n",
      "MonthFactor[T.August]     1255.5472   2020.862      0.621      0.537   -2789.647    5300.741\n",
      "MonthFactor[T.December]   3299.8868   1994.327      1.655      0.103    -692.193    7291.967\n",
      "MonthFactor[T.February]  -3107.3139   1986.328     -1.564      0.123   -7083.382     868.754\n",
      "MonthFactor[T.January]   -4738.9921   1991.884     -2.379      0.021   -8726.182    -751.802\n",
      "MonthFactor[T.July]      -1582.4212   2017.397     -0.784      0.436   -5620.680    2455.837\n",
      "MonthFactor[T.June]      -2482.5140   2004.795     -1.238      0.221   -6495.548    1530.520\n",
      "MonthFactor[T.March]       322.4250   1985.441      0.162      0.872   -3651.868    4296.718\n",
      "MonthFactor[T.May]        2206.3199   1985.491      1.111      0.271   -1768.071    6180.711\n",
      "MonthFactor[T.November]   -283.9308   1987.790     -0.143      0.887   -4262.924    3695.062\n",
      "MonthFactor[T.October]    -611.4919   1986.632     -0.308      0.759   -4588.167    3365.183\n",
      "MonthFactor[T.September] -1756.3385   1989.174     -0.883      0.381   -5738.102    2225.425\n",
      "RAV4Queries                586.4704     77.764      7.542      0.000     430.808     742.132\n",
      "CPIEnergy                  -47.9223     28.966     -1.654      0.103    -105.904      10.059\n",
      "==============================================================================\n",
      "Omnibus:                        5.917   Durbin-Watson:                   0.973\n",
      "Prob(Omnibus):                  0.052   Jarque-Bera (JB):                7.536\n",
      "Skew:                          -0.268   Prob(JB):                       0.0231\n",
      "Kurtosis:                       4.491   Cond. No.                     5.40e+03\n",
      "==============================================================================\n",
      "\n",
      "Notes:\n",
      "[1] Standard Errors assume that the covariance matrix of the errors is correctly specified.\n",
      "[2] The condition number is large, 5.4e+03. This might indicate that there are\n",
      "strong multicollinearity or other numerical problems.\n"
     ]
    }
   ],
   "source": [
    "ols = smf.ols(formula='RAV4Sales~ RAV4Queries+CPIEnergy+MonthFactor',data=train)\n",
    "model1 =ols.fit()\n",
    "print(model1.summary())"
   ]
  },
  {
   "cell_type": "code",
   "execution_count": 13,
   "metadata": {},
   "outputs": [
    {
     "name": "stdout",
     "output_type": "stream",
     "text": [
      "                            OLS Regression Results                            \n",
      "==============================================================================\n",
      "Dep. Variable:              RAV4Sales   R-squared:                       0.682\n",
      "Model:                            OLS   Adj. R-squared:                  0.560\n",
      "Method:                 Least Squares   F-statistic:                     5.599\n",
      "Date:                Thu, 11 Feb 2021   Prob (F-statistic):           2.62e-05\n",
      "Time:                        14:01:34   Log-Likelihood:                -463.60\n",
      "No. Observations:                  48   AIC:                             955.2\n",
      "Df Residuals:                      34   BIC:                             981.4\n",
      "Df Model:                          13                                         \n",
      "Covariance Type:            nonrobust                                         \n",
      "============================================================================================\n",
      "                               coef    std err          t      P>|t|      [0.025      0.975]\n",
      "--------------------------------------------------------------------------------------------\n",
      "Intercept                -4594.3439   1.27e+04     -0.361      0.720   -3.04e+04    2.13e+04\n",
      "MonthFactor[T.August]     1.344e+04   3248.488      4.137      0.000    6835.804       2e+04\n",
      "MonthFactor[T.December]   9486.5446   3251.640      2.917      0.006    2878.417    1.61e+04\n",
      "MonthFactor[T.February]    574.8912   3229.172      0.178      0.860   -5987.576    7137.359\n",
      "MonthFactor[T.January]   -2674.0244   3211.628     -0.833      0.411   -9200.838    3852.789\n",
      "MonthFactor[T.July]       9630.8203   3261.708      2.953      0.006    3002.231    1.63e+04\n",
      "MonthFactor[T.June]       7046.8050   3241.147      2.174      0.037     460.001    1.36e+04\n",
      "MonthFactor[T.March]      2432.7239   3190.099      0.763      0.451   -4050.337    8915.784\n",
      "MonthFactor[T.May]         1.01e+04   3192.822      3.162      0.003    3608.025    1.66e+04\n",
      "MonthFactor[T.November]   7211.3926   3233.726      2.230      0.032     639.670    1.38e+04\n",
      "MonthFactor[T.October]    6629.6823   3229.020      2.053      0.048      67.523    1.32e+04\n",
      "MonthFactor[T.September]  9741.2666   3224.511      3.021      0.005    3188.271    1.63e+04\n",
      "RAV4Queries                115.9049     44.866      2.583      0.014      24.727     207.083\n",
      "CPIEnergy                  121.5095     60.188      2.019      0.051      -0.808     243.827\n",
      "==============================================================================\n",
      "Omnibus:                        1.718   Durbin-Watson:                   1.177\n",
      "Prob(Omnibus):                  0.424   Jarque-Bera (JB):                1.158\n",
      "Skew:                          -0.009   Prob(JB):                        0.560\n",
      "Kurtosis:                       2.239   Cond. No.                     4.37e+03\n",
      "==============================================================================\n",
      "\n",
      "Notes:\n",
      "[1] Standard Errors assume that the covariance matrix of the errors is correctly specified.\n",
      "[2] The condition number is large, 4.37e+03. This might indicate that there are\n",
      "strong multicollinearity or other numerical problems.\n"
     ]
    }
   ],
   "source": [
    "ols = smf.ols(formula='RAV4Sales~ RAV4Queries+CPIEnergy+MonthFactor',data=test)\n",
    "model1 =ols.fit()\n",
    "print(model1.summary())"
   ]
  },
  {
   "cell_type": "markdown",
   "metadata": {},
   "source": [
    "The R squared value is 0.823 and osr squared is 0.682. I think this model can be useful bc the osr squared value can help predict RAV4 Sales."
   ]
  },
  {
   "cell_type": "markdown",
   "metadata": {},
   "source": [
    "# d"
   ]
  },
  {
   "cell_type": "code",
   "execution_count": 31,
   "metadata": {},
   "outputs": [
    {
     "name": "stdout",
     "output_type": "stream",
     "text": [
      "<class 'pandas.core.frame.DataFrame'>\n",
      "Index: 22 entries, City to Dallas\n",
      "Data columns (total 1 columns):\n",
      "Category: All categories    22 non-null object\n",
      "dtypes: object(1)\n",
      "memory usage: 352.0+ bytes\n"
     ]
    },
    {
     "data": {
      "text/html": [
       "<div>\n",
       "<style scoped>\n",
       "    .dataframe tbody tr th:only-of-type {\n",
       "        vertical-align: middle;\n",
       "    }\n",
       "\n",
       "    .dataframe tbody tr th {\n",
       "        vertical-align: top;\n",
       "    }\n",
       "\n",
       "    .dataframe thead th {\n",
       "        text-align: right;\n",
       "    }\n",
       "</style>\n",
       "<table border=\"1\" class=\"dataframe\">\n",
       "  <thead>\n",
       "    <tr style=\"text-align: right;\">\n",
       "      <th></th>\n",
       "      <th>Category: All categories</th>\n",
       "    </tr>\n",
       "  </thead>\n",
       "  <tbody>\n",
       "    <tr>\n",
       "      <th>City</th>\n",
       "      <td>Toyota RAV4: (1/1/11 - 1/1/20)</td>\n",
       "    </tr>\n",
       "    <tr>\n",
       "      <th>Yonkers</th>\n",
       "      <td>100</td>\n",
       "    </tr>\n",
       "    <tr>\n",
       "      <th>San Jose</th>\n",
       "      <td>85</td>\n",
       "    </tr>\n",
       "    <tr>\n",
       "      <th>Boston</th>\n",
       "      <td>71</td>\n",
       "    </tr>\n",
       "    <tr>\n",
       "      <th>Houston</th>\n",
       "      <td>62</td>\n",
       "    </tr>\n",
       "    <tr>\n",
       "      <th>Portland</th>\n",
       "      <td>62</td>\n",
       "    </tr>\n",
       "    <tr>\n",
       "      <th>New York</th>\n",
       "      <td>60</td>\n",
       "    </tr>\n",
       "    <tr>\n",
       "      <th>San Diego</th>\n",
       "      <td>59</td>\n",
       "    </tr>\n",
       "    <tr>\n",
       "      <th>Philadelphia</th>\n",
       "      <td>59</td>\n",
       "    </tr>\n",
       "    <tr>\n",
       "      <th>Los Angeles</th>\n",
       "      <td>59</td>\n",
       "    </tr>\n",
       "  </tbody>\n",
       "</table>\n",
       "</div>"
      ],
      "text/plain": [
       "                    Category: All categories\n",
       "City          Toyota RAV4: (1/1/11 - 1/1/20)\n",
       "Yonkers                                  100\n",
       "San Jose                                  85\n",
       "Boston                                    71\n",
       "Houston                                   62\n",
       "Portland                                  62\n",
       "New York                                  60\n",
       "San Diego                                 59\n",
       "Philadelphia                              59\n",
       "Los Angeles                               59"
      ]
     },
     "execution_count": 31,
     "metadata": {},
     "output_type": "execute_result"
    }
   ],
   "source": [
    "newd = pd.read_csv(\"geoMap.csv\")\n",
    "filterd = newd.dropna()\n",
    "filterd.info()\n",
    "filterd.head(10)"
   ]
  },
  {
   "cell_type": "code",
   "execution_count": 33,
   "metadata": {},
   "outputs": [
    {
     "ename": "ValueError",
     "evalue": "columns overlap but no suffix specified: Index(['Category: All categories'], dtype='object')",
     "output_type": "error",
     "traceback": [
      "\u001b[0;31m---------------------------------------------------------------------------\u001b[0m",
      "\u001b[0;31mValueError\u001b[0m                                Traceback (most recent call last)",
      "\u001b[0;32m<ipython-input-33-96268641aeb7>\u001b[0m in \u001b[0;36m<module>\u001b[0;34m()\u001b[0m\n\u001b[1;32m      5\u001b[0m \u001b[0;31m# filterd.append(data, ignore_index=False)\u001b[0m\u001b[0;34m\u001b[0m\u001b[0;34m\u001b[0m\u001b[0;34m\u001b[0m\u001b[0m\n\u001b[1;32m      6\u001b[0m \u001b[0mcity\u001b[0m \u001b[0;34m=\u001b[0m \u001b[0mfilterd\u001b[0m\u001b[0;34m[\u001b[0m\u001b[0;34m\"Category: All categories\"\u001b[0m\u001b[0;34m]\u001b[0m\u001b[0;34m\u001b[0m\u001b[0;34m\u001b[0m\u001b[0m\n\u001b[0;32m----> 7\u001b[0;31m \u001b[0mdata\u001b[0m \u001b[0;34m=\u001b[0m \u001b[0mdata\u001b[0m\u001b[0;34m.\u001b[0m\u001b[0mjoin\u001b[0m\u001b[0;34m(\u001b[0m\u001b[0mcity\u001b[0m\u001b[0;34m)\u001b[0m\u001b[0;34m\u001b[0m\u001b[0;34m\u001b[0m\u001b[0m\n\u001b[0m",
      "\u001b[0;32m/Users/gyelgireddy/anaconda/lib/python3.6/site-packages/pandas/core/frame.py\u001b[0m in \u001b[0;36mjoin\u001b[0;34m(self, other, on, how, lsuffix, rsuffix, sort)\u001b[0m\n\u001b[1;32m   6813\u001b[0m         \u001b[0;31m# For SparseDataFrame's benefit\u001b[0m\u001b[0;34m\u001b[0m\u001b[0;34m\u001b[0m\u001b[0;34m\u001b[0m\u001b[0m\n\u001b[1;32m   6814\u001b[0m         return self._join_compat(other, on=on, how=how, lsuffix=lsuffix,\n\u001b[0;32m-> 6815\u001b[0;31m                                  rsuffix=rsuffix, sort=sort)\n\u001b[0m\u001b[1;32m   6816\u001b[0m \u001b[0;34m\u001b[0m\u001b[0m\n\u001b[1;32m   6817\u001b[0m     def _join_compat(self, other, on=None, how='left', lsuffix='', rsuffix='',\n",
      "\u001b[0;32m/Users/gyelgireddy/anaconda/lib/python3.6/site-packages/pandas/core/frame.py\u001b[0m in \u001b[0;36m_join_compat\u001b[0;34m(self, other, on, how, lsuffix, rsuffix, sort)\u001b[0m\n\u001b[1;32m   6828\u001b[0m             return merge(self, other, left_on=on, how=how,\n\u001b[1;32m   6829\u001b[0m                          \u001b[0mleft_index\u001b[0m\u001b[0;34m=\u001b[0m\u001b[0mon\u001b[0m \u001b[0;32mis\u001b[0m \u001b[0;32mNone\u001b[0m\u001b[0;34m,\u001b[0m \u001b[0mright_index\u001b[0m\u001b[0;34m=\u001b[0m\u001b[0;32mTrue\u001b[0m\u001b[0;34m,\u001b[0m\u001b[0;34m\u001b[0m\u001b[0;34m\u001b[0m\u001b[0m\n\u001b[0;32m-> 6830\u001b[0;31m                          suffixes=(lsuffix, rsuffix), sort=sort)\n\u001b[0m\u001b[1;32m   6831\u001b[0m         \u001b[0;32melse\u001b[0m\u001b[0;34m:\u001b[0m\u001b[0;34m\u001b[0m\u001b[0;34m\u001b[0m\u001b[0m\n\u001b[1;32m   6832\u001b[0m             \u001b[0;32mif\u001b[0m \u001b[0mon\u001b[0m \u001b[0;32mis\u001b[0m \u001b[0;32mnot\u001b[0m \u001b[0;32mNone\u001b[0m\u001b[0;34m:\u001b[0m\u001b[0;34m\u001b[0m\u001b[0;34m\u001b[0m\u001b[0m\n",
      "\u001b[0;32m/Users/gyelgireddy/anaconda/lib/python3.6/site-packages/pandas/core/reshape/merge.py\u001b[0m in \u001b[0;36mmerge\u001b[0;34m(left, right, how, on, left_on, right_on, left_index, right_index, sort, suffixes, copy, indicator, validate)\u001b[0m\n\u001b[1;32m     46\u001b[0m                          \u001b[0mcopy\u001b[0m\u001b[0;34m=\u001b[0m\u001b[0mcopy\u001b[0m\u001b[0;34m,\u001b[0m \u001b[0mindicator\u001b[0m\u001b[0;34m=\u001b[0m\u001b[0mindicator\u001b[0m\u001b[0;34m,\u001b[0m\u001b[0;34m\u001b[0m\u001b[0;34m\u001b[0m\u001b[0m\n\u001b[1;32m     47\u001b[0m                          validate=validate)\n\u001b[0;32m---> 48\u001b[0;31m     \u001b[0;32mreturn\u001b[0m \u001b[0mop\u001b[0m\u001b[0;34m.\u001b[0m\u001b[0mget_result\u001b[0m\u001b[0;34m(\u001b[0m\u001b[0;34m)\u001b[0m\u001b[0;34m\u001b[0m\u001b[0;34m\u001b[0m\u001b[0m\n\u001b[0m\u001b[1;32m     49\u001b[0m \u001b[0;34m\u001b[0m\u001b[0m\n\u001b[1;32m     50\u001b[0m \u001b[0;34m\u001b[0m\u001b[0m\n",
      "\u001b[0;32m/Users/gyelgireddy/anaconda/lib/python3.6/site-packages/pandas/core/reshape/merge.py\u001b[0m in \u001b[0;36mget_result\u001b[0;34m(self)\u001b[0m\n\u001b[1;32m    550\u001b[0m \u001b[0;34m\u001b[0m\u001b[0m\n\u001b[1;32m    551\u001b[0m         llabels, rlabels = items_overlap_with_suffix(ldata.items, lsuf,\n\u001b[0;32m--> 552\u001b[0;31m                                                      rdata.items, rsuf)\n\u001b[0m\u001b[1;32m    553\u001b[0m \u001b[0;34m\u001b[0m\u001b[0m\n\u001b[1;32m    554\u001b[0m         \u001b[0mlindexers\u001b[0m \u001b[0;34m=\u001b[0m \u001b[0;34m{\u001b[0m\u001b[0;36m1\u001b[0m\u001b[0;34m:\u001b[0m \u001b[0mleft_indexer\u001b[0m\u001b[0;34m}\u001b[0m \u001b[0;32mif\u001b[0m \u001b[0mleft_indexer\u001b[0m \u001b[0;32mis\u001b[0m \u001b[0;32mnot\u001b[0m \u001b[0;32mNone\u001b[0m \u001b[0;32melse\u001b[0m \u001b[0;34m{\u001b[0m\u001b[0;34m}\u001b[0m\u001b[0;34m\u001b[0m\u001b[0;34m\u001b[0m\u001b[0m\n",
      "\u001b[0;32m/Users/gyelgireddy/anaconda/lib/python3.6/site-packages/pandas/core/internals/managers.py\u001b[0m in \u001b[0;36mitems_overlap_with_suffix\u001b[0;34m(left, lsuffix, right, rsuffix)\u001b[0m\n\u001b[1;32m   1970\u001b[0m         \u001b[0;32mif\u001b[0m \u001b[0;32mnot\u001b[0m \u001b[0mlsuffix\u001b[0m \u001b[0;32mand\u001b[0m \u001b[0;32mnot\u001b[0m \u001b[0mrsuffix\u001b[0m\u001b[0;34m:\u001b[0m\u001b[0;34m\u001b[0m\u001b[0;34m\u001b[0m\u001b[0m\n\u001b[1;32m   1971\u001b[0m             raise ValueError('columns overlap but no suffix specified: '\n\u001b[0;32m-> 1972\u001b[0;31m                              '{rename}'.format(rename=to_rename))\n\u001b[0m\u001b[1;32m   1973\u001b[0m \u001b[0;34m\u001b[0m\u001b[0m\n\u001b[1;32m   1974\u001b[0m         \u001b[0;32mdef\u001b[0m \u001b[0mlrenamer\u001b[0m\u001b[0;34m(\u001b[0m\u001b[0mx\u001b[0m\u001b[0;34m)\u001b[0m\u001b[0;34m:\u001b[0m\u001b[0;34m\u001b[0m\u001b[0;34m\u001b[0m\u001b[0m\n",
      "\u001b[0;31mValueError\u001b[0m: columns overlap but no suffix specified: Index(['Category: All categories'], dtype='object')"
     ]
    }
   ],
   "source": [
    "# frames = [data, filterd]\n",
    "# final = pd.concat(frames, axis =1)\n",
    "# final.info()\n",
    "# final.head()\n",
    "# filterd.append(data, ignore_index=False)\n",
    "city = filterd[\"Category: All categories\"]\n",
    "data = data.join(city)"
   ]
  },
  {
   "cell_type": "markdown",
   "metadata": {},
   "source": [
    "Struggled with joining both tables but if it worked I would do the below. The new data value I wanted to exist to our existing data frame is the city where RAV4s were sold. Based on the R squared value and OSR squared value, I would be able to tell how much the variable of city be significant or not."
   ]
  },
  {
   "cell_type": "code",
   "execution_count": null,
   "metadata": {
    "collapsed": true
   },
   "outputs": [],
   "source": [
    "ols = smf.ols(formula='RAV4Sales~ RAV4Queries+CPIEnergy+MonthFactor+City',data=train)\n",
    "model1 =ols.fit()\n",
    "print(model1.summary())"
   ]
  }
 ],
 "metadata": {
  "kernelspec": {
   "display_name": "Python 3",
   "language": "python",
   "name": "python3"
  },
  "language_info": {
   "codemirror_mode": {
    "name": "ipython",
    "version": 3
   },
   "file_extension": ".py",
   "mimetype": "text/x-python",
   "name": "python",
   "nbconvert_exporter": "python",
   "pygments_lexer": "ipython3",
   "version": "3.6.10"
  }
 },
 "nbformat": 4,
 "nbformat_minor": 2
}
