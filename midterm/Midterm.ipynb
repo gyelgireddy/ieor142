{
 "cells": [
  {
   "cell_type": "markdown",
   "metadata": {},
   "source": [
    "#  Data Analysis Exercises"
   ]
  },
  {
   "cell_type": "code",
   "execution_count": 2,
   "metadata": {
    "collapsed": true
   },
   "outputs": [],
   "source": [
    "import numpy as np\n",
    "import pandas as pd\n",
    "import statsmodels.api as sm\n",
    "import statsmodels.formula.api as smf"
   ]
  },
  {
   "cell_type": "markdown",
   "metadata": {},
   "source": [
    "# 1"
   ]
  },
  {
   "cell_type": "code",
   "execution_count": 3,
   "metadata": {},
   "outputs": [
    {
     "data": {
      "text/html": [
       "<div>\n",
       "<style scoped>\n",
       "    .dataframe tbody tr th:only-of-type {\n",
       "        vertical-align: middle;\n",
       "    }\n",
       "\n",
       "    .dataframe tbody tr th {\n",
       "        vertical-align: top;\n",
       "    }\n",
       "\n",
       "    .dataframe thead th {\n",
       "        text-align: right;\n",
       "    }\n",
       "</style>\n",
       "<table border=\"1\" class=\"dataframe\">\n",
       "  <thead>\n",
       "    <tr style=\"text-align: right;\">\n",
       "      <th></th>\n",
       "      <th>Year</th>\n",
       "      <th>LogSalePrice</th>\n",
       "      <th>SqftLot</th>\n",
       "      <th>SqftAbove</th>\n",
       "      <th>SqftBasement</th>\n",
       "      <th>SqftLawn</th>\n",
       "      <th>Floors</th>\n",
       "      <th>Bedrooms</th>\n",
       "      <th>Bathrooms</th>\n",
       "      <th>Kitchens</th>\n",
       "      <th>Condition</th>\n",
       "      <th>Grade</th>\n",
       "      <th>OnlineGrade</th>\n",
       "      <th>YearsSince1900Built</th>\n",
       "    </tr>\n",
       "  </thead>\n",
       "  <tbody>\n",
       "    <tr>\n",
       "      <th>0</th>\n",
       "      <td>2014</td>\n",
       "      <td>12.309982</td>\n",
       "      <td>5650</td>\n",
       "      <td>1180</td>\n",
       "      <td>0</td>\n",
       "      <td>0</td>\n",
       "      <td>1.0</td>\n",
       "      <td>3</td>\n",
       "      <td>1.00</td>\n",
       "      <td>0</td>\n",
       "      <td>3</td>\n",
       "      <td>7</td>\n",
       "      <td>7.0</td>\n",
       "      <td>55</td>\n",
       "    </tr>\n",
       "    <tr>\n",
       "      <th>1</th>\n",
       "      <td>2014</td>\n",
       "      <td>13.195614</td>\n",
       "      <td>7242</td>\n",
       "      <td>2170</td>\n",
       "      <td>400</td>\n",
       "      <td>0</td>\n",
       "      <td>2.0</td>\n",
       "      <td>3</td>\n",
       "      <td>2.25</td>\n",
       "      <td>1</td>\n",
       "      <td>3</td>\n",
       "      <td>7</td>\n",
       "      <td>7.1</td>\n",
       "      <td>51</td>\n",
       "    </tr>\n",
       "    <tr>\n",
       "      <th>2</th>\n",
       "      <td>2015</td>\n",
       "      <td>12.100712</td>\n",
       "      <td>10000</td>\n",
       "      <td>770</td>\n",
       "      <td>0</td>\n",
       "      <td>3949</td>\n",
       "      <td>1.0</td>\n",
       "      <td>2</td>\n",
       "      <td>1.00</td>\n",
       "      <td>0</td>\n",
       "      <td>3</td>\n",
       "      <td>6</td>\n",
       "      <td>6.1</td>\n",
       "      <td>33</td>\n",
       "    </tr>\n",
       "    <tr>\n",
       "      <th>3</th>\n",
       "      <td>2014</td>\n",
       "      <td>13.311329</td>\n",
       "      <td>5000</td>\n",
       "      <td>1050</td>\n",
       "      <td>910</td>\n",
       "      <td>0</td>\n",
       "      <td>1.0</td>\n",
       "      <td>4</td>\n",
       "      <td>3.00</td>\n",
       "      <td>0</td>\n",
       "      <td>5</td>\n",
       "      <td>7</td>\n",
       "      <td>9.0</td>\n",
       "      <td>65</td>\n",
       "    </tr>\n",
       "    <tr>\n",
       "      <th>4</th>\n",
       "      <td>2015</td>\n",
       "      <td>13.142166</td>\n",
       "      <td>8080</td>\n",
       "      <td>1680</td>\n",
       "      <td>0</td>\n",
       "      <td>2790</td>\n",
       "      <td>1.0</td>\n",
       "      <td>3</td>\n",
       "      <td>2.00</td>\n",
       "      <td>0</td>\n",
       "      <td>3</td>\n",
       "      <td>8</td>\n",
       "      <td>7.5</td>\n",
       "      <td>87</td>\n",
       "    </tr>\n",
       "  </tbody>\n",
       "</table>\n",
       "</div>"
      ],
      "text/plain": [
       "   Year  LogSalePrice  SqftLot  SqftAbove  SqftBasement  SqftLawn  Floors  \\\n",
       "0  2014     12.309982     5650       1180             0         0     1.0   \n",
       "1  2014     13.195614     7242       2170           400         0     2.0   \n",
       "2  2015     12.100712    10000        770             0      3949     1.0   \n",
       "3  2014     13.311329     5000       1050           910         0     1.0   \n",
       "4  2015     13.142166     8080       1680             0      2790     1.0   \n",
       "\n",
       "   Bedrooms  Bathrooms  Kitchens  Condition  Grade  OnlineGrade  \\\n",
       "0         3       1.00         0          3      7          7.0   \n",
       "1         3       2.25         1          3      7          7.1   \n",
       "2         2       1.00         0          3      6          6.1   \n",
       "3         4       3.00         0          5      7          9.0   \n",
       "4         3       2.00         0          3      8          7.5   \n",
       "\n",
       "   YearsSince1900Built  \n",
       "0                   55  \n",
       "1                   51  \n",
       "2                   33  \n",
       "3                   65  \n",
       "4                   87  "
      ]
     },
     "execution_count": 3,
     "metadata": {},
     "output_type": "execute_result"
    }
   ],
   "source": [
    "house = pd.read_csv('houses_142.csv')\n",
    "house.head()"
   ]
  },
  {
   "cell_type": "code",
   "execution_count": 4,
   "metadata": {},
   "outputs": [
    {
     "data": {
      "text/plain": [
       "(14624, 6976)"
      ]
     },
     "execution_count": 4,
     "metadata": {},
     "output_type": "execute_result"
    }
   ],
   "source": [
    "house_train = house[house['Year'] <= 2014]\n",
    "house_test = house[house['Year'] >= 2015]\n",
    "\n",
    "len(house_train), len(house_test)"
   ]
  },
  {
   "cell_type": "code",
   "execution_count": 5,
   "metadata": {},
   "outputs": [
    {
     "name": "stdout",
     "output_type": "stream",
     "text": [
      "                            OLS Regression Results                            \n",
      "==============================================================================\n",
      "Dep. Variable:           LogSalePrice   R-squared:                       0.693\n",
      "Model:                            OLS   Adj. R-squared:                  0.693\n",
      "Method:                 Least Squares   F-statistic:                     3000.\n",
      "Date:                Thu, 18 Mar 2021   Prob (F-statistic):               0.00\n",
      "Time:                        18:16:50   Log-Likelihood:                -2684.3\n",
      "No. Observations:               14624   AIC:                             5393.\n",
      "Df Residuals:                   14612   BIC:                             5484.\n",
      "Df Model:                          11                                         \n",
      "Covariance Type:            nonrobust                                         \n",
      "=======================================================================================\n",
      "                          coef    std err          t      P>|t|      [0.025      0.975]\n",
      "---------------------------------------------------------------------------------------\n",
      "Intercept               9.7898      0.039    250.131      0.000       9.713       9.867\n",
      "SqftLot             -6.464e-07   4.89e-07     -1.322      0.186   -1.61e-06    3.12e-07\n",
      "SqftAbove               0.0002   5.48e-06     31.589      0.000       0.000       0.000\n",
      "SqftBasement            0.0002   6.65e-06     37.502      0.000       0.000       0.000\n",
      "SqftLawn             1.871e-06   1.46e-06      1.281      0.200   -9.92e-07    4.74e-06\n",
      "Floors                  0.0697      0.019      3.679      0.000       0.033       0.107\n",
      "Bedrooms               -0.0237      0.003     -7.037      0.000      -0.030      -0.017\n",
      "Kitchens                0.0388      0.017      2.244      0.025       0.005       0.073\n",
      "Condition              -0.5299      0.013    -40.435      0.000      -0.556      -0.504\n",
      "Grade                   0.0133      0.006      2.239      0.025       0.002       0.025\n",
      "OnlineGrade             0.6374      0.014     46.581      0.000       0.611       0.664\n",
      "YearsSince1900Built    -0.0043      0.000    -38.963      0.000      -0.004      -0.004\n",
      "==============================================================================\n",
      "Omnibus:                       91.849   Durbin-Watson:                   1.986\n",
      "Prob(Omnibus):                  0.000   Jarque-Bera (JB):              125.436\n",
      "Skew:                          -0.080   Prob(JB):                     5.78e-28\n",
      "Kurtosis:                       3.424   Cond. No.                     7.47e+05\n",
      "==============================================================================\n",
      "\n",
      "Notes:\n",
      "[1] Standard Errors assume that the covariance matrix of the errors is correctly specified.\n",
      "[2] The condition number is large, 7.47e+05. This might indicate that there are\n",
      "strong multicollinearity or other numerical problems.\n"
     ]
    }
   ],
   "source": [
    "ols = smf.ols(formula='LogSalePrice ~ SqftLot + SqftAbove + SqftBasement + SqftLawn + Floors + Bedrooms + Kitchens \\\n",
    "+ Condition + Grade + OnlineGrade + YearsSince1900Built', \n",
    "                 data=house_train)\n",
    "model =ols.fit()\n",
    "print(model.summary())"
   ]
  },
  {
   "cell_type": "markdown",
   "metadata": {},
   "source": [
    "We have a summary of important information like the R squared value, etc about our model. Now we must do variable selection to predict the best, most accurate LogSalePrice. We will be calculating Variance Inflation Factor (VIF) for each variable and the variables with higher VIF values and p values will be taken out to make our results more fine-tuned."
   ]
  },
  {
   "cell_type": "code",
   "execution_count": 6,
   "metadata": {},
   "outputs": [
    {
     "name": "stderr",
     "output_type": "stream",
     "text": [
      "/Users/gyelgireddy/anaconda/lib/python3.6/site-packages/numpy/core/fromnumeric.py:2580: FutureWarning: Method .ptp is deprecated and will be removed in a future version. Use numpy.ptp instead.\n",
      "  return ptp(axis=axis, out=out, **kwargs)\n"
     ]
    },
    {
     "data": {
      "text/plain": [
       "SqftLot                58.260256\n",
       "SqftAbove               3.564801\n",
       "SqftBasement            1.527227\n",
       "SqftLawn               57.629814\n",
       "Floors                 18.027362\n",
       "Bedrooms                1.614541\n",
       "Kitchens               15.795897\n",
       "Condition              13.101427\n",
       "Grade                   8.483883\n",
       "OnlineGrade            16.774044\n",
       "YearsSince1900Built     1.799963\n",
       "dtype: float64"
      ]
     },
     "execution_count": 6,
     "metadata": {},
     "output_type": "execute_result"
    }
   ],
   "source": [
    "from statsmodels.stats.outliers_influence import variance_inflation_factor\n",
    "\n",
    "# The dataframe passed to VIF must include the intercept term. We add it the same way we did before.\n",
    "def VIF(df, columns):\n",
    "    values = sm.add_constant(df[columns]).values\n",
    "    num_columns = len(columns)+1\n",
    "    vif = [variance_inflation_factor(values, i) for i in range(num_columns)]\n",
    "    return pd.Series(vif[1:], index=columns)\n",
    "\n",
    "cols = ['SqftLot', 'SqftAbove', 'SqftBasement', 'SqftLawn', 'Floors', 'Bedrooms', 'Kitchens', 'Condition', 'Grade', \\\n",
    "        'OnlineGrade', 'YearsSince1900Built']\n",
    "VIF(house_train, cols)"
   ]
  },
  {
   "cell_type": "code",
   "execution_count": 7,
   "metadata": {},
   "outputs": [
    {
     "name": "stdout",
     "output_type": "stream",
     "text": [
      "                            OLS Regression Results                            \n",
      "==============================================================================\n",
      "Dep. Variable:           LogSalePrice   R-squared:                       0.693\n",
      "Model:                            OLS   Adj. R-squared:                  0.693\n",
      "Method:                 Least Squares   F-statistic:                     3666.\n",
      "Date:                Thu, 18 Mar 2021   Prob (F-statistic):               0.00\n",
      "Time:                        18:16:54   Log-Likelihood:                -2685.2\n",
      "No. Observations:               14624   AIC:                             5390.\n",
      "Df Residuals:                   14614   BIC:                             5466.\n",
      "Df Model:                           9                                         \n",
      "Covariance Type:            nonrobust                                         \n",
      "=======================================================================================\n",
      "                          coef    std err          t      P>|t|      [0.025      0.975]\n",
      "---------------------------------------------------------------------------------------\n",
      "Intercept               9.7893      0.039    250.909      0.000       9.713       9.866\n",
      "SqftAbove               0.0002   5.32e-06     32.267      0.000       0.000       0.000\n",
      "SqftBasement            0.0002   6.63e-06     37.515      0.000       0.000       0.000\n",
      "Floors                  0.0704      0.019      3.729      0.000       0.033       0.107\n",
      "Bedrooms               -0.0236      0.003     -7.052      0.000      -0.030      -0.017\n",
      "Kitchens                0.0387      0.017      2.241      0.025       0.005       0.073\n",
      "Condition              -0.5302      0.013    -40.474      0.000      -0.556      -0.505\n",
      "Grade                   0.0134      0.006      2.246      0.025       0.002       0.025\n",
      "OnlineGrade             0.6376      0.014     46.604      0.000       0.611       0.664\n",
      "YearsSince1900Built    -0.0043      0.000    -39.027      0.000      -0.004      -0.004\n",
      "==============================================================================\n",
      "Omnibus:                       91.462   Durbin-Watson:                   1.986\n",
      "Prob(Omnibus):                  0.000   Jarque-Bera (JB):              124.819\n",
      "Skew:                          -0.080   Prob(JB):                     7.87e-28\n",
      "Kurtosis:                       3.423   Cond. No.                     3.51e+04\n",
      "==============================================================================\n",
      "\n",
      "Notes:\n",
      "[1] Standard Errors assume that the covariance matrix of the errors is correctly specified.\n",
      "[2] The condition number is large, 3.51e+04. This might indicate that there are\n",
      "strong multicollinearity or other numerical problems.\n"
     ]
    },
    {
     "name": "stderr",
     "output_type": "stream",
     "text": [
      "/Users/gyelgireddy/anaconda/lib/python3.6/site-packages/numpy/core/fromnumeric.py:2580: FutureWarning: Method .ptp is deprecated and will be removed in a future version. Use numpy.ptp instead.\n",
      "  return ptp(axis=axis, out=out, **kwargs)\n"
     ]
    },
    {
     "data": {
      "text/plain": [
       "SqftAbove               3.369072\n",
       "SqftBasement            1.519316\n",
       "Floors                 17.928710\n",
       "Bedrooms                1.598586\n",
       "Kitchens               15.767033\n",
       "Condition              13.093688\n",
       "Grade                   8.481763\n",
       "OnlineGrade            16.768349\n",
       "YearsSince1900Built     1.797079\n",
       "dtype: float64"
      ]
     },
     "execution_count": 7,
     "metadata": {},
     "output_type": "execute_result"
    }
   ],
   "source": [
    "ols = smf.ols(formula='LogSalePrice ~ SqftAbove + SqftBasement + Floors + Bedrooms + Kitchens \\\n",
    "+ Condition + Grade + OnlineGrade + YearsSince1900Built', \n",
    "                 data=house_train)\n",
    "model =ols.fit()\n",
    "print(model.summary())\n",
    "cols = ['SqftAbove', 'SqftBasement', 'Floors', 'Bedrooms', 'Kitchens', 'Condition', 'Grade', \\\n",
    "        'OnlineGrade', 'YearsSince1900Built']\n",
    "VIF(house_train, cols)"
   ]
  },
  {
   "cell_type": "markdown",
   "metadata": {},
   "source": [
    "After taking out the variables SqftLot and SqftLawn, the R squared value and adjusted R squared value did not change but the p-values went down. Some of the VIF values are still pretty high so I will be trying to take out Floors, OnlineGrade, Kitchens, and Condition and see what results show."
   ]
  },
  {
   "cell_type": "code",
   "execution_count": 8,
   "metadata": {},
   "outputs": [
    {
     "name": "stdout",
     "output_type": "stream",
     "text": [
      "                            OLS Regression Results                            \n",
      "==============================================================================\n",
      "Dep. Variable:           LogSalePrice   R-squared:                       0.693\n",
      "Model:                            OLS   Adj. R-squared:                  0.693\n",
      "Method:                 Least Squares   F-statistic:                     4119.\n",
      "Date:                Thu, 18 Mar 2021   Prob (F-statistic):               0.00\n",
      "Time:                        18:16:55   Log-Likelihood:                -2692.1\n",
      "No. Observations:               14624   AIC:                             5402.\n",
      "Df Residuals:                   14615   BIC:                             5471.\n",
      "Df Model:                           8                                         \n",
      "Covariance Type:            nonrobust                                         \n",
      "=======================================================================================\n",
      "                          coef    std err          t      P>|t|      [0.025      0.975]\n",
      "---------------------------------------------------------------------------------------\n",
      "Intercept               9.8459      0.036    273.873      0.000       9.775       9.916\n",
      "SqftAbove               0.0002   5.32e-06     32.489      0.000       0.000       0.000\n",
      "SqftBasement            0.0002   6.63e-06     37.425      0.000       0.000       0.000\n",
      "Bedrooms               -0.0245      0.003     -7.330      0.000      -0.031      -0.018\n",
      "Kitchens                0.1000      0.005     18.776      0.000       0.090       0.110\n",
      "Condition              -0.5312      0.013    -40.541      0.000      -0.557      -0.506\n",
      "Grade                   0.0142      0.006      2.392      0.017       0.003       0.026\n",
      "OnlineGrade             0.6380      0.014     46.611      0.000       0.611       0.665\n",
      "YearsSince1900Built    -0.0041      0.000    -40.714      0.000      -0.004      -0.004\n",
      "==============================================================================\n",
      "Omnibus:                       93.071   Durbin-Watson:                   1.985\n",
      "Prob(Omnibus):                  0.000   Jarque-Bera (JB):              126.355\n",
      "Skew:                          -0.084   Prob(JB):                     3.65e-28\n",
      "Kurtosis:                       3.423   Cond. No.                     3.17e+04\n",
      "==============================================================================\n",
      "\n",
      "Notes:\n",
      "[1] Standard Errors assume that the covariance matrix of the errors is correctly specified.\n",
      "[2] The condition number is large, 3.17e+04. This might indicate that there are\n",
      "strong multicollinearity or other numerical problems.\n"
     ]
    },
    {
     "name": "stderr",
     "output_type": "stream",
     "text": [
      "/Users/gyelgireddy/anaconda/lib/python3.6/site-packages/numpy/core/fromnumeric.py:2580: FutureWarning: Method .ptp is deprecated and will be removed in a future version. Use numpy.ptp instead.\n",
      "  return ptp(axis=axis, out=out, **kwargs)\n"
     ]
    },
    {
     "data": {
      "text/plain": [
       "SqftAbove               3.360049\n",
       "SqftBasement            1.518570\n",
       "Bedrooms                1.590673\n",
       "Kitchens                1.497389\n",
       "Condition              13.088209\n",
       "Grade                   8.468883\n",
       "OnlineGrade            16.767514\n",
       "YearsSince1900Built     1.530630\n",
       "dtype: float64"
      ]
     },
     "execution_count": 8,
     "metadata": {},
     "output_type": "execute_result"
    }
   ],
   "source": [
    "ols = smf.ols(formula='LogSalePrice ~ SqftAbove + SqftBasement  + Bedrooms + Kitchens \\\n",
    "+ Condition + Grade + OnlineGrade + YearsSince1900Built', \n",
    "                 data=house_train)\n",
    "model =ols.fit()\n",
    "print(model.summary())\n",
    "cols = ['SqftAbove', 'SqftBasement', 'Bedrooms', 'Kitchens', 'Condition', 'Grade', \\\n",
    "        'OnlineGrade', 'YearsSince1900Built']\n",
    "VIF(house_train, cols)"
   ]
  },
  {
   "cell_type": "code",
   "execution_count": 9,
   "metadata": {},
   "outputs": [
    {
     "name": "stdout",
     "output_type": "stream",
     "text": [
      "                            OLS Regression Results                            \n",
      "==============================================================================\n",
      "Dep. Variable:           LogSalePrice   R-squared:                       0.693\n",
      "Model:                            OLS   Adj. R-squared:                  0.692\n",
      "Method:                 Least Squares   F-statistic:                     4705.\n",
      "Date:                Thu, 18 Mar 2021   Prob (F-statistic):               0.00\n",
      "Time:                        18:16:55   Log-Likelihood:                -2695.0\n",
      "No. Observations:               14624   AIC:                             5406.\n",
      "Df Residuals:                   14616   BIC:                             5467.\n",
      "Df Model:                           7                                         \n",
      "Covariance Type:            nonrobust                                         \n",
      "=======================================================================================\n",
      "                          coef    std err          t      P>|t|      [0.025      0.975]\n",
      "---------------------------------------------------------------------------------------\n",
      "Intercept               9.8263      0.035    280.700      0.000       9.758       9.895\n",
      "SqftAbove               0.0002   5.02e-06     35.247      0.000       0.000       0.000\n",
      "SqftBasement            0.0003   6.57e-06     38.044      0.000       0.000       0.000\n",
      "Bedrooms               -0.0251      0.003     -7.533      0.000      -0.032      -0.019\n",
      "Kitchens                0.1002      0.005     18.813      0.000       0.090       0.111\n",
      "Condition              -0.5554      0.008    -66.553      0.000      -0.572      -0.539\n",
      "OnlineGrade             0.6645      0.008     82.876      0.000       0.649       0.680\n",
      "YearsSince1900Built    -0.0041   9.81e-05    -41.315      0.000      -0.004      -0.004\n",
      "==============================================================================\n",
      "Omnibus:                       91.189   Durbin-Watson:                   1.986\n",
      "Prob(Omnibus):                  0.000   Jarque-Bera (JB):              122.873\n",
      "Skew:                          -0.085   Prob(JB):                     2.08e-27\n",
      "Kurtosis:                       3.415   Cond. No.                     2.99e+04\n",
      "==============================================================================\n",
      "\n",
      "Notes:\n",
      "[1] Standard Errors assume that the covariance matrix of the errors is correctly specified.\n",
      "[2] The condition number is large, 2.99e+04. This might indicate that there are\n",
      "strong multicollinearity or other numerical problems.\n"
     ]
    },
    {
     "name": "stderr",
     "output_type": "stream",
     "text": [
      "/Users/gyelgireddy/anaconda/lib/python3.6/site-packages/numpy/core/fromnumeric.py:2580: FutureWarning: Method .ptp is deprecated and will be removed in a future version. Use numpy.ptp instead.\n",
      "  return ptp(axis=axis, out=out, **kwargs)\n"
     ]
    },
    {
     "data": {
      "text/plain": [
       "SqftAbove              2.994201\n",
       "SqftBasement           1.493385\n",
       "Bedrooms               1.581435\n",
       "Kitchens               1.497017\n",
       "Condition              5.306942\n",
       "OnlineGrade            5.752407\n",
       "YearsSince1900Built    1.444886\n",
       "dtype: float64"
      ]
     },
     "execution_count": 9,
     "metadata": {},
     "output_type": "execute_result"
    }
   ],
   "source": [
    "ols = smf.ols(formula='LogSalePrice ~ SqftAbove + SqftBasement  + Bedrooms + Kitchens \\\n",
    "+ Condition  + OnlineGrade + YearsSince1900Built', \n",
    "                 data=house_train)\n",
    "model =ols.fit()\n",
    "print(model.summary())\n",
    "cols = ['SqftAbove', 'SqftBasement', 'Bedrooms', 'Kitchens', 'Condition', \\\n",
    "        'OnlineGrade', 'YearsSince1900Built']\n",
    "VIF(house_train, cols)"
   ]
  },
  {
   "cell_type": "markdown",
   "metadata": {},
   "source": [
    "I removed Floor which helped the model.Removing Online Grade and Conditions resulted in lower p-values and VIF values but also a big decrease in the R squared value so I decided to keep them and remove Grade instead. This kept my R squared value at 0.693 consistently and decreased both the p-values and the VIF values. The highest VIF values are slightly over 5 but when I tried removing them the R squared value dropped by a lot so I think it is best to keep them."
   ]
  },
  {
   "cell_type": "code",
   "execution_count": 47,
   "metadata": {},
   "outputs": [
    {
     "name": "stdout",
     "output_type": "stream",
     "text": [
      "                            OLS Regression Results                            \n",
      "==============================================================================\n",
      "Dep. Variable:           LogSalePrice   R-squared:                       0.656\n",
      "Model:                            OLS   Adj. R-squared:                  0.656\n",
      "Method:                 Least Squares   F-statistic:                     1902.\n",
      "Date:                Thu, 18 Mar 2021   Prob (F-statistic):               0.00\n",
      "Time:                        11:23:20   Log-Likelihood:                -1708.3\n",
      "No. Observations:                6976   AIC:                             3433.\n",
      "Df Residuals:                    6968   BIC:                             3487.\n",
      "Df Model:                           7                                         \n",
      "Covariance Type:            nonrobust                                         \n",
      "=======================================================================================\n",
      "                          coef    std err          t      P>|t|      [0.025      0.975]\n",
      "---------------------------------------------------------------------------------------\n",
      "Intercept               9.8581      0.055    179.819      0.000       9.751       9.966\n",
      "SqftAbove               0.0002   7.92e-06     20.344      0.000       0.000       0.000\n",
      "SqftBasement            0.0003   1.06e-05     23.808      0.000       0.000       0.000\n",
      "Bedrooms               -0.0216      0.005     -4.170      0.000      -0.032      -0.011\n",
      "Kitchens                0.1084      0.008     13.148      0.000       0.092       0.125\n",
      "Condition              -0.5910      0.013    -45.966      0.000      -0.616      -0.566\n",
      "OnlineGrade             0.6870      0.012     55.276      0.000       0.663       0.711\n",
      "YearsSince1900Built    -0.0045      0.000    -30.003      0.000      -0.005      -0.004\n",
      "==============================================================================\n",
      "Omnibus:                        1.757   Durbin-Watson:                   1.983\n",
      "Prob(Omnibus):                  0.415   Jarque-Bera (JB):                1.726\n",
      "Skew:                          -0.023   Prob(JB):                        0.422\n",
      "Kurtosis:                       3.062   Cond. No.                     2.98e+04\n",
      "==============================================================================\n",
      "\n",
      "Notes:\n",
      "[1] Standard Errors assume that the covariance matrix of the errors is correctly specified.\n",
      "[2] The condition number is large, 2.98e+04. This might indicate that there are\n",
      "strong multicollinearity or other numerical problems.\n"
     ]
    }
   ],
   "source": [
    "ols = smf.ols(formula='LogSalePrice ~ SqftAbove + SqftBasement  + Bedrooms + Kitchens \\\n",
    "+ Condition  + OnlineGrade + YearsSince1900Built', \n",
    "                 data=house_test)\n",
    "model =ols.fit()\n",
    "print(model.summary())"
   ]
  },
  {
   "cell_type": "code",
   "execution_count": 54,
   "metadata": {},
   "outputs": [
    {
     "name": "stderr",
     "output_type": "stream",
     "text": [
      "/Users/gyelgireddy/anaconda/lib/python3.6/site-packages/numpy/core/fromnumeric.py:2580: FutureWarning: Method .ptp is deprecated and will be removed in a future version. Use numpy.ptp instead.\n",
      "  return ptp(axis=axis, out=out, **kwargs)\n"
     ]
    }
   ],
   "source": [
    "#now we want to see how the model is doing on the test set so we are gonna calculate the OSR squared value.\n",
    "def osr2(model, x_train, y_train, x_test, y_test):\n",
    "    y_pred = model.predict(x_test)\n",
    "    SSE = np.sum((y_test - y_pred)**2)\n",
    "    SST = np.sum((y_test - np.mean(y_train))**2) \n",
    "    return (1 - SSE/SST)\n",
    "x_test = house_test[cols]\n",
    "x_test = sm.add_constant(x_test)\n",
    "y_train = house_train['LogSalePrice']\n",
    "y_test = house_test['LogSalePrice']"
   ]
  },
  {
   "cell_type": "code",
   "execution_count": 55,
   "metadata": {},
   "outputs": [
    {
     "data": {
      "text/plain": [
       "0.656477741133084"
      ]
     },
     "execution_count": 55,
     "metadata": {},
     "output_type": "execute_result"
    }
   ],
   "source": [
    "osr2(model, house_train[['SqftAbove', 'SqftBasement', 'Bedrooms', 'Kitchens', 'Condition', \\\n",
    "        'OnlineGrade', 'YearsSince1900Built']], y_train,\n",
    "house_test[['SqftAbove', 'SqftBasement', 'Bedrooms', 'Kitchens', 'Condition', \\\n",
    "        'OnlineGrade', 'YearsSince1900Built']], y_test)"
   ]
  },
  {
   "cell_type": "code",
   "execution_count": 56,
   "metadata": {},
   "outputs": [
    {
     "name": "stdout",
     "output_type": "stream",
     "text": [
      "                            OLS Regression Results                            \n",
      "==============================================================================\n",
      "Dep. Variable:           LogSalePrice   R-squared:                       0.657\n",
      "Model:                            OLS   Adj. R-squared:                  0.656\n",
      "Method:                 Least Squares   F-statistic:                     1213.\n",
      "Date:                Thu, 18 Mar 2021   Prob (F-statistic):               0.00\n",
      "Time:                        11:30:41   Log-Likelihood:                -1702.5\n",
      "No. Observations:                6976   AIC:                             3429.\n",
      "Df Residuals:                    6964   BIC:                             3511.\n",
      "Df Model:                          11                                         \n",
      "Covariance Type:            nonrobust                                         \n",
      "=======================================================================================\n",
      "                          coef    std err          t      P>|t|      [0.025      0.975]\n",
      "---------------------------------------------------------------------------------------\n",
      "Intercept               9.7803      0.061    159.336      0.000       9.660       9.901\n",
      "SqftLot             -1.293e-07   7.47e-07     -0.173      0.863   -1.59e-06    1.34e-06\n",
      "SqftAbove               0.0002   8.58e-06     18.721      0.000       0.000       0.000\n",
      "SqftBasement            0.0003   1.07e-05     23.598      0.000       0.000       0.000\n",
      "SqftLawn             2.928e-07   2.24e-06      0.131      0.896   -4.09e-06    4.67e-06\n",
      "Floors                  0.1032      0.031      3.336      0.001       0.043       0.164\n",
      "Bedrooms               -0.0202      0.005     -3.859      0.000      -0.031      -0.010\n",
      "Kitchens                0.0184      0.028      0.654      0.513      -0.037       0.073\n",
      "Condition              -0.5869      0.020    -29.114      0.000      -0.626      -0.547\n",
      "Grade                   0.0004      0.009      0.045      0.964      -0.018       0.018\n",
      "OnlineGrade             0.6831      0.021     32.256      0.000       0.642       0.725\n",
      "YearsSince1900Built    -0.0048      0.000    -27.385      0.000      -0.005      -0.004\n",
      "==============================================================================\n",
      "Omnibus:                        1.905   Durbin-Watson:                   1.981\n",
      "Prob(Omnibus):                  0.386   Jarque-Bera (JB):                1.877\n",
      "Skew:                          -0.025   Prob(JB):                        0.391\n",
      "Kurtosis:                       3.064   Cond. No.                     8.88e+05\n",
      "==============================================================================\n",
      "\n",
      "Notes:\n",
      "[1] Standard Errors assume that the covariance matrix of the errors is correctly specified.\n",
      "[2] The condition number is large, 8.88e+05. This might indicate that there are\n",
      "strong multicollinearity or other numerical problems.\n"
     ]
    }
   ],
   "source": [
    "ols = smf.ols(formula='LogSalePrice ~ SqftLot + SqftAbove + SqftBasement + SqftLawn + Floors + Bedrooms + Kitchens \\\n",
    "+ Condition + Grade + OnlineGrade + YearsSince1900Built', \n",
    "                 data=house_test)\n",
    "model =ols.fit()\n",
    "print(model.summary())"
   ]
  },
  {
   "cell_type": "markdown",
   "metadata": {},
   "source": [
    "The training set R squared is 0.693 and the OSR squared is 0.656477741133084. So comparing the original model with the new model, both R squared and OSR squared values stayed similar but the p-values and the VIF values improved by a lot. So overall, the new model has given us better results in predicting the LogSalePrice and can be considered useful because the p-values and VIF values got better"
   ]
  },
  {
   "cell_type": "markdown",
   "metadata": {},
   "source": [
    "# 2"
   ]
  },
  {
   "cell_type": "markdown",
   "metadata": {},
   "source": [
    "# a"
   ]
  },
  {
   "cell_type": "markdown",
   "metadata": {},
   "source": [
    "300p = 10(1-p) + 10p (we have to consider both cases because the travelers will have to pay 10 dollars when they buy insurance whether the flights get cancelled or not and the other side, travelers pay 300 dollars if they buy insurance and 0 dollars if they do not <br>\n",
    "300p + 10p = 10 - 10p + 10p <br>\n",
    "300p = 10<br>\n",
    "p = 1/30"
   ]
  },
  {
   "cell_type": "markdown",
   "metadata": {},
   "source": [
    "# b"
   ]
  },
  {
   "cell_type": "code",
   "execution_count": 3,
   "metadata": {},
   "outputs": [
    {
     "data": {
      "text/html": [
       "<div>\n",
       "<style scoped>\n",
       "    .dataframe tbody tr th:only-of-type {\n",
       "        vertical-align: middle;\n",
       "    }\n",
       "\n",
       "    .dataframe tbody tr th {\n",
       "        vertical-align: top;\n",
       "    }\n",
       "\n",
       "    .dataframe thead th {\n",
       "        text-align: right;\n",
       "    }\n",
       "</style>\n",
       "<table border=\"1\" class=\"dataframe\">\n",
       "  <thead>\n",
       "    <tr style=\"text-align: right;\">\n",
       "      <th></th>\n",
       "      <th>Month</th>\n",
       "      <th>Cancelled</th>\n",
       "      <th>Airline</th>\n",
       "      <th>Destination</th>\n",
       "      <th>DayOfWeek</th>\n",
       "      <th>ScheduledDepartureHour</th>\n",
       "      <th>ScheduledTime</th>\n",
       "    </tr>\n",
       "  </thead>\n",
       "  <tbody>\n",
       "    <tr>\n",
       "      <th>0</th>\n",
       "      <td>January</td>\n",
       "      <td>0</td>\n",
       "      <td>US</td>\n",
       "      <td>CLT</td>\n",
       "      <td>Thursday</td>\n",
       "      <td>0</td>\n",
       "      <td>286</td>\n",
       "    </tr>\n",
       "    <tr>\n",
       "      <th>1</th>\n",
       "      <td>January</td>\n",
       "      <td>0</td>\n",
       "      <td>DL</td>\n",
       "      <td>MSP</td>\n",
       "      <td>Thursday</td>\n",
       "      <td>0</td>\n",
       "      <td>217</td>\n",
       "    </tr>\n",
       "    <tr>\n",
       "      <th>2</th>\n",
       "      <td>January</td>\n",
       "      <td>0</td>\n",
       "      <td>AA</td>\n",
       "      <td>DFW</td>\n",
       "      <td>Thursday</td>\n",
       "      <td>0</td>\n",
       "      <td>195</td>\n",
       "    </tr>\n",
       "    <tr>\n",
       "      <th>3</th>\n",
       "      <td>January</td>\n",
       "      <td>0</td>\n",
       "      <td>UA</td>\n",
       "      <td>IAH</td>\n",
       "      <td>Thursday</td>\n",
       "      <td>0</td>\n",
       "      <td>218</td>\n",
       "    </tr>\n",
       "    <tr>\n",
       "      <th>4</th>\n",
       "      <td>January</td>\n",
       "      <td>0</td>\n",
       "      <td>UA</td>\n",
       "      <td>DEN</td>\n",
       "      <td>Thursday</td>\n",
       "      <td>5</td>\n",
       "      <td>146</td>\n",
       "    </tr>\n",
       "  </tbody>\n",
       "</table>\n",
       "</div>"
      ],
      "text/plain": [
       "     Month  Cancelled Airline Destination DayOfWeek  ScheduledDepartureHour  \\\n",
       "0  January          0      US         CLT  Thursday                       0   \n",
       "1  January          0      DL         MSP  Thursday                       0   \n",
       "2  January          0      AA         DFW  Thursday                       0   \n",
       "3  January          0      UA         IAH  Thursday                       0   \n",
       "4  January          0      UA         DEN  Thursday                       5   \n",
       "\n",
       "   ScheduledTime  \n",
       "0            286  \n",
       "1            217  \n",
       "2            195  \n",
       "3            218  \n",
       "4            146  "
      ]
     },
     "execution_count": 3,
     "metadata": {},
     "output_type": "execute_result"
    }
   ],
   "source": [
    "flight = pd.read_csv('flights_142.csv')\n",
    "flight.head()"
   ]
  },
  {
   "cell_type": "code",
   "execution_count": 4,
   "metadata": {},
   "outputs": [
    {
     "data": {
      "text/plain": [
       "(24460, 13422)"
      ]
     },
     "execution_count": 4,
     "metadata": {},
     "output_type": "execute_result"
    }
   ],
   "source": [
    "flight_train = flight[flight['Month'] != 'March']\n",
    "flight_test = flight[flight['Month'] == 'March']\n",
    "\n",
    "len(flight_train), len(flight_test)"
   ]
  },
  {
   "cell_type": "code",
   "execution_count": null,
   "metadata": {},
   "outputs": [],
   "source": [
    "logreg = smf.logit(formula = 'Cancelled ~ Month + Airline + Destination + DayOfWeek + ScheduledDepartureHour + ScheduledTime',\n",
    "                       data = flight_train).fit(method = 'ncg')\n",
    "print(logreg.summary())"
   ]
  },
  {
   "cell_type": "code",
   "execution_count": null,
   "metadata": {
    "collapsed": true
   },
   "outputs": [],
   "source": []
  }
 ],
 "metadata": {
  "kernelspec": {
   "display_name": "Python 3",
   "language": "python",
   "name": "python3"
  },
  "language_info": {
   "codemirror_mode": {
    "name": "ipython",
    "version": 3
   },
   "file_extension": ".py",
   "mimetype": "text/x-python",
   "name": "python",
   "nbconvert_exporter": "python",
   "pygments_lexer": "ipython3",
   "version": "3.6.10"
  }
 },
 "nbformat": 4,
 "nbformat_minor": 2
}
