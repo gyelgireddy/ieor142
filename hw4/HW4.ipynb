{
 "cells": [
  {
   "cell_type": "code",
   "execution_count": 2,
   "metadata": {
    "collapsed": true
   },
   "outputs": [],
   "source": [
    "import os\n",
    "import pandas as pd\n",
    "import numpy as np\n",
    "import matplotlib.pyplot as plt\n",
    "from bs4 import BeautifulSoup"
   ]
  },
  {
   "cell_type": "code",
   "execution_count": 5,
   "metadata": {},
   "outputs": [
    {
     "data": {
      "text/html": [
       "<div>\n",
       "<style scoped>\n",
       "    .dataframe tbody tr th:only-of-type {\n",
       "        vertical-align: middle;\n",
       "    }\n",
       "\n",
       "    .dataframe tbody tr th {\n",
       "        vertical-align: top;\n",
       "    }\n",
       "\n",
       "    .dataframe thead th {\n",
       "        text-align: right;\n",
       "    }\n",
       "</style>\n",
       "<table border=\"1\" class=\"dataframe\">\n",
       "  <thead>\n",
       "    <tr style=\"text-align: right;\">\n",
       "      <th></th>\n",
       "      <th>Id</th>\n",
       "      <th>Score</th>\n",
       "      <th>Body</th>\n",
       "      <th>Title</th>\n",
       "      <th>Tags</th>\n",
       "    </tr>\n",
       "  </thead>\n",
       "  <tbody>\n",
       "    <tr>\n",
       "      <th>0</th>\n",
       "      <td>475417</td>\n",
       "      <td>5</td>\n",
       "      <td>&lt;p&gt;I often hear that in a longitudinal multi-l...</td>\n",
       "      <td>Are time points nested in students or crossed ...</td>\n",
       "      <td>&lt;r&gt;&lt;mixed-model&gt;&lt;lme4-nlme&gt;&lt;repeated-measures&gt;...</td>\n",
       "    </tr>\n",
       "    <tr>\n",
       "      <th>1</th>\n",
       "      <td>454969</td>\n",
       "      <td>1</td>\n",
       "      <td>&lt;p&gt;I have a normally distributed dataset and a...</td>\n",
       "      <td>Find confidence level given a confidence interval</td>\n",
       "      <td>&lt;r&gt;&lt;probability&gt;&lt;normal-distribution&gt;&lt;confiden...</td>\n",
       "    </tr>\n",
       "    <tr>\n",
       "      <th>2</th>\n",
       "      <td>475651</td>\n",
       "      <td>0</td>\n",
       "      <td>&lt;p&gt;I have created a random forest to classify ...</td>\n",
       "      <td>Random Forest Classifier bound to a specific t...</td>\n",
       "      <td>&lt;random-forest&gt;&lt;feature-selection&gt;&lt;error&gt;</td>\n",
       "    </tr>\n",
       "    <tr>\n",
       "      <th>3</th>\n",
       "      <td>474736</td>\n",
       "      <td>0</td>\n",
       "      <td>&lt;p&gt;I have some issues with my linear differenc...</td>\n",
       "      <td>How to back transform ln + 1 or log10 + 1, and...</td>\n",
       "      <td>&lt;regression&gt;&lt;logistic&gt;&lt;multiple-regression&gt;&lt;lo...</td>\n",
       "    </tr>\n",
       "    <tr>\n",
       "      <th>4</th>\n",
       "      <td>471570</td>\n",
       "      <td>1</td>\n",
       "      <td>&lt;p&gt;I have created a mixed model to model the n...</td>\n",
       "      <td>Interpret dotplot in mixed model</td>\n",
       "      <td>&lt;r&gt;&lt;regression&gt;&lt;multilevel-analysis&gt;&lt;model&gt;</td>\n",
       "    </tr>\n",
       "  </tbody>\n",
       "</table>\n",
       "</div>"
      ],
      "text/plain": [
       "       Id  Score                                               Body  \\\n",
       "0  475417      5  <p>I often hear that in a longitudinal multi-l...   \n",
       "1  454969      1  <p>I have a normally distributed dataset and a...   \n",
       "2  475651      0  <p>I have created a random forest to classify ...   \n",
       "3  474736      0  <p>I have some issues with my linear differenc...   \n",
       "4  471570      1  <p>I have created a mixed model to model the n...   \n",
       "\n",
       "                                               Title  \\\n",
       "0  Are time points nested in students or crossed ...   \n",
       "1  Find confidence level given a confidence interval   \n",
       "2  Random Forest Classifier bound to a specific t...   \n",
       "3  How to back transform ln + 1 or log10 + 1, and...   \n",
       "4                   Interpret dotplot in mixed model   \n",
       "\n",
       "                                                Tags  \n",
       "0  <r><mixed-model><lme4-nlme><repeated-measures>...  \n",
       "1  <r><probability><normal-distribution><confiden...  \n",
       "2          <random-forest><feature-selection><error>  \n",
       "3  <regression><logistic><multiple-regression><lo...  \n",
       "4        <r><regression><multilevel-analysis><model>  "
      ]
     },
     "execution_count": 5,
     "metadata": {},
     "output_type": "execute_result"
    }
   ],
   "source": [
    "train = pd.read_csv(\"stack_stats_2020_train.csv\")\n",
    "test = pd.read_csv(\"stack_stats_2020_test.csv\")\n",
    "train.head()"
   ]
  },
  {
   "cell_type": "code",
   "execution_count": 6,
   "metadata": {},
   "outputs": [
    {
     "data": {
      "text/html": [
       "<div>\n",
       "<style scoped>\n",
       "    .dataframe tbody tr th:only-of-type {\n",
       "        vertical-align: middle;\n",
       "    }\n",
       "\n",
       "    .dataframe tbody tr th {\n",
       "        vertical-align: top;\n",
       "    }\n",
       "\n",
       "    .dataframe thead th {\n",
       "        text-align: right;\n",
       "    }\n",
       "</style>\n",
       "<table border=\"1\" class=\"dataframe\">\n",
       "  <thead>\n",
       "    <tr style=\"text-align: right;\">\n",
       "      <th></th>\n",
       "      <th>Id</th>\n",
       "      <th>Score</th>\n",
       "    </tr>\n",
       "  </thead>\n",
       "  <tbody>\n",
       "    <tr>\n",
       "      <th>count</th>\n",
       "      <td>19247.000000</td>\n",
       "      <td>19247.000000</td>\n",
       "    </tr>\n",
       "    <tr>\n",
       "      <th>mean</th>\n",
       "      <td>474108.217281</td>\n",
       "      <td>1.021458</td>\n",
       "    </tr>\n",
       "    <tr>\n",
       "      <th>std</th>\n",
       "      <td>17107.503902</td>\n",
       "      <td>2.070564</td>\n",
       "    </tr>\n",
       "    <tr>\n",
       "      <th>min</th>\n",
       "      <td>442888.000000</td>\n",
       "      <td>-3.000000</td>\n",
       "    </tr>\n",
       "    <tr>\n",
       "      <th>25%</th>\n",
       "      <td>459814.000000</td>\n",
       "      <td>0.000000</td>\n",
       "    </tr>\n",
       "    <tr>\n",
       "      <th>50%</th>\n",
       "      <td>474083.000000</td>\n",
       "      <td>0.000000</td>\n",
       "    </tr>\n",
       "    <tr>\n",
       "      <th>75%</th>\n",
       "      <td>489092.000000</td>\n",
       "      <td>1.000000</td>\n",
       "    </tr>\n",
       "    <tr>\n",
       "      <th>max</th>\n",
       "      <td>503077.000000</td>\n",
       "      <td>60.000000</td>\n",
       "    </tr>\n",
       "  </tbody>\n",
       "</table>\n",
       "</div>"
      ],
      "text/plain": [
       "                  Id         Score\n",
       "count   19247.000000  19247.000000\n",
       "mean   474108.217281      1.021458\n",
       "std     17107.503902      2.070564\n",
       "min    442888.000000     -3.000000\n",
       "25%    459814.000000      0.000000\n",
       "50%    474083.000000      0.000000\n",
       "75%    489092.000000      1.000000\n",
       "max    503077.000000     60.000000"
      ]
     },
     "execution_count": 6,
     "metadata": {},
     "output_type": "execute_result"
    }
   ],
   "source": [
    "train.describe()"
   ]
  },
  {
   "cell_type": "code",
   "execution_count": null,
   "metadata": {
    "collapsed": true
   },
   "outputs": [],
   "source": []
  }
 ],
 "metadata": {
  "kernelspec": {
   "display_name": "Python 3",
   "language": "python",
   "name": "python3"
  },
  "language_info": {
   "codemirror_mode": {
    "name": "ipython",
    "version": 3
   },
   "file_extension": ".py",
   "mimetype": "text/x-python",
   "name": "python",
   "nbconvert_exporter": "python",
   "pygments_lexer": "ipython3",
   "version": "3.6.10"
  }
 },
 "nbformat": 4,
 "nbformat_minor": 2
}
